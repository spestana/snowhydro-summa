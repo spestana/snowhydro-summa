{
 "cells": [
  {
   "cell_type": "markdown",
   "metadata": {},
   "source": [
    "# Homework 2 : CUAHSI VU : Snow Hydrology"
   ]
  },
  {
   "cell_type": "markdown",
   "metadata": {},
   "source": [
    "## B. Setup"
   ]
  },
  {
   "cell_type": "markdown",
   "metadata": {},
   "source": [
    "As in Homework 1, you will download and install the data sets that you will need to run the exercises. There is no point in downloading the same data over and over again, which is why we will do this once as part of this notebook. Once the data is installed you can move on to the next notebook. All three exercises in Homework 2 will use the same data set for the simulations."
   ]
  },
  {
   "cell_type": "markdown",
   "metadata": {},
   "source": [
    "As before, remember that you want to save your notebooks in a place other than the `examples` directory tree, because files you save there may be deleted and overwritten the next time you start your virtual machine. Save your files somewhere in the `work` directory tree: `work/homework_2` would be a great place for them. So click on \"_File --> Save Notebook As..._\" and save this notebook as `work/homework_2/homework_2_B_setup.ipynb` before you continue. If things go hopelessly wrong, you can always start over again with the original notebook in your `examples` directory tree."
   ]
  },
  {
   "cell_type": "markdown",
   "metadata": {},
   "source": [
    "Also, if things go wrong and you overwrite or lose your data you can rerun this setup notebook to re-install the data sets you need for the homework."
   ]
  },
  {
   "cell_type": "code",
   "execution_count": null,
   "metadata": {},
   "outputs": [],
   "source": [
    "%matplotlib inline\n",
    "import matplotlib.pyplot as plt"
   ]
  },
  {
   "cell_type": "markdown",
   "metadata": {},
   "source": [
    "## Install the homework 2 setup from HydroShare"
   ]
  },
  {
   "cell_type": "markdown",
   "metadata": {},
   "source": [
    "The HydroShare resource we will use for this homework is https://www.hydroshare.org/resource/05adaf5618ee4dbbbf04195db376cbb4/. This is a public resource owned by Andrew Bennett, a graduate student at the University of Washington, who has been helping to configure the homework assignments so they can be run in this virtual machine."
   ]
  },
  {
   "cell_type": "markdown",
   "metadata": {},
   "source": [
    "As before, we define the `resource_id`, a place to store the resource after it is downloaded (`save_filepath`), and download the resource. Since HydroShare zips the resource file, we unzip it when we get it."
   ]
  },
  {
   "cell_type": "code",
   "execution_count": null,
   "metadata": {},
   "outputs": [],
   "source": [
    "from hs_restclient import HydroShare\n",
    "resource_id = '05adaf5618ee4dbbbf04195db376cbb4'\n",
    "save_filepath = '/home/jovyan/work'\n",
    "hs = HydroShare()\n",
    "hs.getResource(resource_id, destination=save_filepath, unzip=True)"
   ]
  },
  {
   "cell_type": "markdown",
   "metadata": {},
   "source": [
    "In the file manager on the left, you will now see an entry for a directory with the same name as the `resource_id`. The file that is part of the resource is a compressed tar file (`umpqua.tar.gz`), which we need to uncompress and extract before we can use the contents. We can use a python package (`shutil`) to accomplish this. The directory structure is a bit obscure, but after you run the following commands you should be all set up."
   ]
  },
  {
   "cell_type": "code",
   "execution_count": null,
   "metadata": {},
   "outputs": [],
   "source": [
    "import os\n",
    "import shutil\n",
    "resource_name = 'umpqua.tar.gz'\n",
    "testcase_filepath = (save_filepath + '/' + resource_id + '/' \n",
    "                     + resource_id + '/data/contents/' + resource_name)\n",
    "shutil.unpack_archive(testcase_filepath, extract_dir=os.path.dirname(testcase_filepath))"
   ]
  },
  {
   "cell_type": "markdown",
   "metadata": {},
   "source": [
    "Now let's just make sure it all works. We'll create a simulation object and will run a quick test simulation with the configuration that you now have."
   ]
  },
  {
   "cell_type": "code",
   "execution_count": null,
   "metadata": {},
   "outputs": [],
   "source": [
    "from pysumma.Simulation import Simulation\n",
    "case_path = '/home/jovyan/work/{}/{}/data/contents/umpqua'.format(resource_id, resource_id)\n",
    "filemanager_path = case_path+'/settings/snow_fileManager.txt'\n",
    "summa_code_path = '/opt/summa'\n",
    "S = Simulation(case_data=filemanager_path, summa_code=summa_code_path) # ignore message that is printed"
   ]
  },
  {
   "cell_type": "markdown",
   "metadata": {},
   "source": [
    "Let's run the test case. This one may take a bit longer than the previous simulations and may take about up to a minute to run. If everything works as it should, then the final line will be `FORTRAN STOP: finished simulation successfully.`."
   ]
  },
  {
   "cell_type": "code",
   "execution_count": null,
   "metadata": {},
   "outputs": [],
   "source": [
    "results_test, outfile_test = S.execute(run_suffix=\"test\", run_option = 'local')"
   ]
  },
  {
   "cell_type": "markdown",
   "metadata": {},
   "source": [
    "And a quick plot of the snow water equivalent time series to make sure we get output that is meaningful."
   ]
  },
  {
   "cell_type": "code",
   "execution_count": null,
   "metadata": {},
   "outputs": [],
   "source": [
    "results_test.scalarSWE.isel(hru=0).plot()"
   ]
  },
  {
   "cell_type": "markdown",
   "metadata": {},
   "source": [
    "If you inspect the model output, you will notice that there are actually two hrus (hydrologic response units) in the input and output files. The data we are using in this exercise come from observations that Pascal Storck did as part of his PhD at the University of Washington in the mid- to late 1990s. The measurements were made in southern Oregon on the west slope of the Cascade mountains, an area in the transient snow zone that receives a lot of precipitation in winter. One of the goals of the work was to examine the effects of forest harvest practices on snow and hydrology. The first HRU represents a forest clearing, while the second hru represents a forested site."
   ]
  },
  {
   "cell_type": "markdown",
   "metadata": {},
   "source": [
    "To plot output for the clearing and the forest, you can do something like:"
   ]
  },
  {
   "cell_type": "code",
   "execution_count": null,
   "metadata": {},
   "outputs": [],
   "source": [
    "results_test.scalarSWE.isel(hru=0).plot(label='Clearing')\n",
    "results_test.scalarSWE.isel(hru=1).plot(label='Forest')\n",
    "plt.legend()"
   ]
  },
  {
   "cell_type": "markdown",
   "metadata": {},
   "source": [
    "Here the forest SWE is actually the snow on the ground (under the trees). Does this look like you'd expect? We'll come back to this in the notebooks that follow."
   ]
  },
  {
   "cell_type": "markdown",
   "metadata": {},
   "source": [
    "## On to the next step"
   ]
  },
  {
   "cell_type": "markdown",
   "metadata": {},
   "source": [
    "You're all set up for the homework assignment and in the net three notebooks it will be your turn to write some python code to manipulate the simulations. Save this notebook and close the tab. You can also right-click on the file in the left panel if it has a green dot next to it and select \"_Shutdown kernel_\" from the popup menu to stop the python session that is executing the commands in this notebook. Then open the next notebook: `/home/jovyan/examples/homework_1/homework_2_C_exercise_1.ipynb`."
   ]
  },
  {
   "cell_type": "code",
   "execution_count": null,
   "metadata": {},
   "outputs": [],
   "source": []
  }
 ],
 "metadata": {
  "kernelspec": {
   "display_name": "Python [default]",
   "language": "python",
   "name": "python3"
  },
  "language_info": {
   "codemirror_mode": {
    "name": "ipython",
    "version": 3
   },
   "file_extension": ".py",
   "mimetype": "text/x-python",
   "name": "python",
   "nbconvert_exporter": "python",
   "pygments_lexer": "ipython3",
   "version": "3.6.3"
  }
 },
 "nbformat": 4,
 "nbformat_minor": 2
}
