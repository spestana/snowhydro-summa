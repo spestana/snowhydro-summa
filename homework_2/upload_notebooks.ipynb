{
 "cells": [
  {
   "cell_type": "code",
   "execution_count": 6,
   "metadata": {},
   "outputs": [
    {
     "name": "stdout",
     "output_type": "stream",
     "text": [
      "Successfully established a connection with HydroShare\n"
     ]
    }
   ],
   "source": [
    "from pysumma.hydroshare import hydroshare\n",
    "hs_up = hydroshare.hydroshare()"
   ]
  },
  {
   "cell_type": "code",
   "execution_count": 7,
   "metadata": {},
   "outputs": [],
   "source": [
    "files = ('/home/jovyan/work/snowhydro-summa/homework_2/homework_2_A_introduction.ipynb', \n",
    "         '/home/jovyan/work/snowhydro-summa/homework_2/homework_2_B_setup.ipynb',\n",
    "         '/home/jovyan/work/snowhydro-summa/homework_2/homework_2_C_exercise_1.ipynb',\n",
    "         '/home/jovyan/work/snowhydro-summa/homework_2/homework_2_D_exercise_2.ipynb',\n",
    "         '/home/jovyan/work/snowhydro-summa/homework_2/homework_2_E_exercise_3.ipynb',\n",
    "         '/home/jovyan/work/05adaf5618ee4dbbbf04195db376cbb4/05adaf5618ee4dbbbf04195db376cbb4/data/contents/umpqua/output/umpqua_output_rescaled_wind_timestep.nc',\n",
    "         '/home/jovyan/work/05adaf5618ee4dbbbf04195db376cbb4/05adaf5618ee4dbbbf04195db376cbb4/data/contents/umpqua/output/umpqua_output_lw_anderson_timestep.nc',\n",
    "         '/home/jovyan/work/05adaf5618ee4dbbbf04195db376cbb4/05adaf5618ee4dbbbf04195db376cbb4/data/contents/umpqua/output/umpqua_output_lw_prata_timestep.nc',\n",
    "         '/home/jovyan/work/05adaf5618ee4dbbbf04195db376cbb4/05adaf5618ee4dbbbf04195db376cbb4/data/contents/umpqua/output/umpqua_output_lw_dokia_timestep.nc',\n",
    "         '/home/jovyan/work/snowhydro-summa/homework_2/upload_notebooks.ipynb')"
   ]
  },
  {
   "cell_type": "code",
   "execution_count": 8,
   "metadata": {},
   "outputs": [],
   "source": [
    "# write meta data such as abstract, title, keywords, resource type\n",
    "title = 'Homework_2'\n",
    "abstract = 'Notebooks used for the homework 2 exercises for the CUAHSI Virtual University snow module'\n",
    "keywords = ('homework', 'snow', 'SUMMA', 'longwave', 'Jupyter','netCDF')\n",
    "resource_type = 'genericresource'"
   ]
  },
  {
   "cell_type": "code",
   "execution_count": 9,
   "metadata": {},
   "outputs": [],
   "source": [
    "metadata = '[{\"creator\":{\"name\":\"Steven Pestana\"}}]'"
   ]
  },
  {
   "cell_type": "code",
   "execution_count": 10,
   "metadata": {},
   "outputs": [
    {
     "name": "stdout",
     "output_type": "stream",
     "text": [
      "Resource Created Successfully\n",
      "Successfully Added Content Files\n"
     ]
    },
    {
     "name": "stderr",
     "output_type": "stream",
     "text": [
      "Exception in thread Thread-7:\n",
      "Traceback (most recent call last):\n",
      "  File \"/opt/conda/lib/python3.6/threading.py\", line 916, in _bootstrap_inner\n",
      "    self.run()\n",
      "  File \"/opt/conda/lib/python3.6/threading.py\", line 864, in run\n",
      "    self._target(*self._args, **self._kwargs)\n",
      "  File \"/opt/conda/lib/python3.6/site-packages/pysumma/hydroshare/threads.py\", line 23, in f\n",
      "    res = self.func(*args, **kwargs)\n",
      "  File \"/opt/conda/lib/python3.6/site-packages/pysumma/hydroshare/hydroshare.py\", line 66, in _addContentToExistingResource\n",
      "    self.hs.addResourceFile(resid, f)\n",
      "  File \"/opt/conda/lib/python3.6/site-packages/hs_restclient/__init__.py\", line 833, in addResourceFile\n",
      "    close_fd = self._prepareFileForUpload(params, resource_file, resource_filename)\n",
      "  File \"/opt/conda/lib/python3.6/site-packages/hs_restclient/__init__.py\", line 170, in _prepareFileForUpload\n",
      "    raise HydroShareArgumentException(\"{0} is not a file or is not readable.\".format(resource_file))\n",
      "hs_restclient.exceptions.HydroShareArgumentException: /home/jovyan/work/homework_2/upload_notebooks.ipynb is not a file or is not readable.\n",
      "\n"
     ]
    },
    {
     "data": {
      "text/html": [
       "Resource id: f4a2727f85314ddb9cc86f690b25fd1a"
      ],
      "text/plain": [
       "<IPython.core.display.HTML object>"
      ]
     },
     "metadata": {},
     "output_type": "display_data"
    },
    {
     "data": {
      "text/html": [
       "<a href=https://www.hydroshare.org/resource/f4a2727f85314ddb9cc86f690b25fd1a target=\"_blank\">Open Resource in HydroShare<a>"
      ],
      "text/plain": [
       "<IPython.core.display.HTML object>"
      ]
     },
     "metadata": {},
     "output_type": "display_data"
    }
   ],
   "source": [
    "# post simulation results of simpleResistance back to HS\n",
    "resource_id = hs_up.createHydroShareResource(title=title, content_files=files, keywords=keywords, abstract=abstract, \n",
    "                                             resource_type=resource_type, public=False)"
   ]
  },
  {
   "cell_type": "code",
   "execution_count": null,
   "metadata": {},
   "outputs": [],
   "source": []
  }
 ],
 "metadata": {
  "kernelspec": {
   "display_name": "Python [default]",
   "language": "python",
   "name": "python3"
  },
  "language_info": {
   "codemirror_mode": {
    "name": "ipython",
    "version": 3
   },
   "file_extension": ".py",
   "mimetype": "text/x-python",
   "name": "python",
   "nbconvert_exporter": "python",
   "pygments_lexer": "ipython3",
   "version": "3.6.3"
  }
 },
 "nbformat": 4,
 "nbformat_minor": 2
}
