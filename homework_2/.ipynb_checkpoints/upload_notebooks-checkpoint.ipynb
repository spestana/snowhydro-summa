{
 "cells": [
  {
   "cell_type": "code",
   "execution_count": null,
   "metadata": {},
   "outputs": [],
   "source": [
    "from pysumma.hydroshare import hydroshare\n",
    "hs_up = hydroshare.hydroshare()"
   ]
  },
  {
   "cell_type": "code",
   "execution_count": null,
   "metadata": {},
   "outputs": [],
   "source": [
    "files = ('/home/jovyan/work/homework_2/homework_2_A_introduction.ipynb', \n",
    "         '/home/jovyan/work/homework_2/homework_2_B_setup.ipynb',\n",
    "         '/home/jovyan/work/homework_2/homework_2_C_exercise_1.ipynb',\n",
    "         '/home/jovyan/work/homework_2/homework_2_D_exercise_2.ipynb',\n",
    "         '/home/jovyan/work/homework_2/homework_2_E_exercise_3.ipynb',\n",
    "         '/home/jovyan/work/homework_2/upload_notebooks.ipynb')"
   ]
  },
  {
   "cell_type": "code",
   "execution_count": null,
   "metadata": {},
   "outputs": [],
   "source": [
    "# write meta data such as abstract, title, keywords, resource type\n",
    "title = 'Homework 2 notebooks'\n",
    "abstract = 'Notebooks used for the homework 2 exercises for the CUAHSI Virtual University snow module'\n",
    "keywords = ('homework', 'snow')\n",
    "resource_type = 'genericresource'"
   ]
  },
  {
   "cell_type": "code",
   "execution_count": null,
   "metadata": {},
   "outputs": [],
   "source": [
    "metadata = '[{\"creator\":{\"name\":\"Your name here\"}}]'"
   ]
  },
  {
   "cell_type": "code",
   "execution_count": null,
   "metadata": {},
   "outputs": [],
   "source": [
    "# post simulation results of simpleResistance back to HS\n",
    "resource_id = hs_up.createHydroShareResource(title=title, content_files=files, keywords=keywords, abstract=abstract, \n",
    "                                             resource_type=resource_type, public=False)"
   ]
  }
 ],
 "metadata": {
  "kernelspec": {
   "display_name": "Python [default]",
   "language": "python",
   "name": "python3"
  },
  "language_info": {
   "codemirror_mode": {
    "name": "ipython",
    "version": 3
   },
   "file_extension": ".py",
   "mimetype": "text/x-python",
   "name": "python",
   "nbconvert_exporter": "python",
   "pygments_lexer": "ipython3",
   "version": "3.6.3"
  }
 },
 "nbformat": 4,
 "nbformat_minor": 2
}
