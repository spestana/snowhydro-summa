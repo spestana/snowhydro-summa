{
 "cells": [
  {
   "cell_type": "markdown",
   "metadata": {},
   "source": [
    "# Homework 2 : CUAHSI VU : Snow Hydrology"
   ]
  },
  {
   "cell_type": "markdown",
   "metadata": {},
   "source": [
    "We'll use the setup from the `homework_2_B_setup.ipynb` notebook for this exercise. If you think that you comprised that setup in a previous exercise, just rerun `homework_2_B_setup.ipynb` before continuing."
   ]
  },
  {
   "cell_type": "markdown",
   "metadata": {},
   "source": [
    "As before, remember that you want to save your notebooks in a place other than the `examples` directory tree, because files you save there may be deleted and overwritten the next time you start your virtual machine. Save your files somewhere in the `work` directory tree: `work/homework_2` would be a great place for them. So click on \"_File --> Save Notebook As..._\" and save this notebook as `work/homework_2/homework_2_C_exercise_1.ipynb` before you continue. If things go hopelessly wrong, you can always start over again with the original notebook in your `examples` directory tree."
   ]
  },
  {
   "cell_type": "markdown",
   "metadata": {},
   "source": [
    "## C. Homework 2 Exercise 1"
   ]
  },
  {
   "cell_type": "markdown",
   "metadata": {},
   "source": [
    "This first exercise is mostly just a walk-through that will demonstrate the effects of wind speed on the snow simulations. To do this, we will \n",
    "* perform a baseline simulation with the original forcing data, \n",
    "* read the original forcing file into an `xarray Dataset`, \n",
    "* modify the wind speed for one of the hrus,\n",
    "* write the new forcings to a new file, and \n",
    "* perform a second simulation. \n",
    "\n",
    "To make sure that this second simulation uses the new forcing file, we need to modify the SUMMA input file that points to the forcing file to be used (the [forcing file list](https://summa.readthedocs.io/en/latest/input_output/SUMMA_input/#list-of-forcing-files-file)). \n",
    "\n",
    "In addition to all this, we will also compare the simulations with observations. We will show an example below. Don't worry, you'll get to do all this yourself in following notebooks."
   ]
  },
  {
   "cell_type": "markdown",
   "metadata": {},
   "source": [
    "### Setup"
   ]
  },
  {
   "cell_type": "code",
   "execution_count": null,
   "metadata": {},
   "outputs": [],
   "source": [
    "%matplotlib inline\n",
    "import matplotlib.pyplot as plt # if you want to do some plotting using matplotlib (optional)\n",
    "from pysumma.Simulation import Simulation # create Simulation objects\n",
    "from pysumma.hydroshare import hydroshare # create hydroshare objects to upload to HydroShare\n",
    "from pysumma.LocalParamInfo import LocalParamInfo # modify local parameters.\n",
    "import numpy as np # provide some mathematical functions\n",
    "import xarray as xr # read, write, manipulate and analyze NetCDF files\n",
    "cycle = plt.rcParams['axes.prop_cycle'].by_key()['color']"
   ]
  },
  {
   "cell_type": "code",
   "execution_count": null,
   "metadata": {},
   "outputs": [],
   "source": [
    "resource_id = '05adaf5618ee4dbbbf04195db376cbb4'\n",
    "case_path = '/home/jovyan/work/{}/{}/data/contents/umpqua'.format(resource_id, resource_id)\n",
    "filemanager_path = case_path+'/settings/snow_fileManager.txt'\n",
    "summa_code_path = '/opt/summa'"
   ]
  },
  {
   "cell_type": "markdown",
   "metadata": {},
   "source": [
    "### Functions"
   ]
  },
  {
   "cell_type": "markdown",
   "metadata": {},
   "source": [
    "In this section we will pre-define some functions we will use in the rest of the notebook. "
   ]
  },
  {
   "cell_type": "markdown",
   "metadata": {},
   "source": [
    "#### Update the forcing file list\n",
    "\n",
    "The following function will update the forcing file list so that SUMMA will read the right forcing file."
   ]
  },
  {
   "cell_type": "code",
   "execution_count": null,
   "metadata": {},
   "outputs": [],
   "source": [
    "def update_force_file_list(s, new_force_filename):\n",
    "    '''Update the forcing file list\n",
    "       s: SUMMA simulation instance\n",
    "       new: new forcing filename\n",
    "       Note this only works if there is a single forcing file'''\n",
    "    fp = s.setting_path.get_value() + s.forcing_list.get_value()\n",
    "    with open(fp, 'r') as f:\n",
    "        lines = f.readlines()\n",
    "    lines[-1] = \"'{}'\".format(new_force_filename.split('/')[-1])\n",
    "    with open(fp, 'w') as f:\n",
    "        f.writelines(lines)"
   ]
  },
  {
   "cell_type": "markdown",
   "metadata": {},
   "source": [
    "### Effect of wind speed on snow simulations"
   ]
  },
  {
   "cell_type": "markdown",
   "metadata": {},
   "source": [
    "We first perform a simulation using the baseline forcing data (this is the same simulation as in `homework_2_B_setup.ipynb`. To do this, we create a SUMMA simulation object and run the model and tage the simulation with the identifier `baseline`."
   ]
  },
  {
   "cell_type": "code",
   "execution_count": null,
   "metadata": {},
   "outputs": [],
   "source": [
    "S = Simulation(case_data=filemanager_path, summa_code=summa_code_path)\n",
    "ds_baseline, outfile_baseline = S.execute(run_suffix='baseline', run_option='local')"
   ]
  },
  {
   "cell_type": "markdown",
   "metadata": {},
   "source": [
    "When we plot the SWE for this simulations, we see that the snow in the clearing and in the forest reach about the same maximum and that there it persists longer in the forest, which is somewhat counter-intuitive:"
   ]
  },
  {
   "cell_type": "code",
   "execution_count": null,
   "metadata": {},
   "outputs": [],
   "source": [
    "ds_baseline.scalarSWE.isel(hru=0).plot(label='Clearing')\n",
    "ds_baseline.scalarSWE.isel(hru=1).plot(label='Forest')\n",
    "plt.legend()"
   ]
  },
  {
   "cell_type": "markdown",
   "metadata": {},
   "source": [
    "Pascal Storck took SWE measurements in the clearing and the forest, which are available to you in `/home/jovyan/work/05adaf5618ee4dbbbf04195db376cbb4/05adaf5618ee4dbbbf04195db376cbb4/data/contents/umpqua/observations/Storck_9697_SWE_obs.nc`. Can you read this file with"
   ]
  },
  {
   "cell_type": "code",
   "execution_count": null,
   "metadata": {},
   "outputs": [],
   "source": [
    "swe_file = '/home/jovyan/work/05adaf5618ee4dbbbf04195db376cbb4/05adaf5618ee4dbbbf04195db376cbb4/data/contents/umpqua/observations/Storck_9697_SWE_obs.nc'\n",
    "swe_obs = xr.open_dataset(swe_file)"
   ]
  },
  {
   "cell_type": "markdown",
   "metadata": {},
   "source": [
    "When we plot the observations with the model simulations"
   ]
  },
  {
   "cell_type": "code",
   "execution_count": null,
   "metadata": {},
   "outputs": [],
   "source": [
    "plt.figure(figsize=(10,6))\n",
    "ds_baseline.scalarSWE.isel(hru=0).plot(label='Clearing -- sim', \n",
    "                                       color=cycle[0], linestyle='-')\n",
    "ds_baseline.scalarSWE.isel(hru=1).plot(label='Forest -- sim',\n",
    "                                       color=cycle[1], linestyle='-')\n",
    "swe_obs.SWE.isel(hru=0).plot(label='Clearing -- obs',\n",
    "                             color=cycle[0], linestyle='--')\n",
    "swe_obs.SWE.isel(hru=1).plot(label='Forest -- obs',\n",
    "                             color=cycle[1], linestyle='--')\n",
    "max_swe = max(ds_baseline.scalarSWE.max(), swe_obs.SWE.max())\n",
    "plt.ylim(0,max_swe)\n",
    "plt.legend()"
   ]
  },
  {
   "cell_type": "markdown",
   "metadata": {},
   "source": [
    "While that does not look too bad for the clearing, the simulations at the forested site don't look right. In the observations we see much less accumulation under the tree canopy, but we do not see this effect in the simulations.\n",
    "\n",
    "One of the reasons for this is that we are using the same meteorological forcings for both the clearing and forested site. \n",
    "\n",
    "Let's take a look at the forcings. To do this, open the forcing file for this simulation and read the file into an `xarray Dataset` object. Note that the name of the forcing file is stored in the forcing list file. The location of that file is"
   ]
  },
  {
   "cell_type": "code",
   "execution_count": null,
   "metadata": {},
   "outputs": [],
   "source": [
    "forcing_file_list = S.file_dir+'/'+S.forcing_list.filename\n",
    "forcing_file_list"
   ]
  },
  {
   "cell_type": "markdown",
   "metadata": {},
   "source": [
    "If you look in that file, you will see that the name of the forcing file is `Storck_AboveCanopyPP_9697.nc`. The directory for that file is given by"
   ]
  },
  {
   "cell_type": "code",
   "execution_count": null,
   "metadata": {},
   "outputs": [],
   "source": [
    "S.input_path.filepath"
   ]
  },
  {
   "cell_type": "markdown",
   "metadata": {},
   "source": [
    "We can use `xarray` to read the file into an `xarray Dataset`."
   ]
  },
  {
   "cell_type": "code",
   "execution_count": null,
   "metadata": {},
   "outputs": [],
   "source": [
    "force_file_obs  = S.input_path.filepath + '/' + 'Storck_AboveCanopyPP_9697.nc'\n",
    "force_obs = xr.open_dataset(force_file_obs)"
   ]
  },
  {
   "cell_type": "markdown",
   "metadata": {},
   "source": [
    "To examine the contents of the file, you can simply type the name of the `Dataset`"
   ]
  },
  {
   "cell_type": "code",
   "execution_count": null,
   "metadata": {},
   "outputs": [],
   "source": [
    "force_obs"
   ]
  },
  {
   "cell_type": "markdown",
   "metadata": {},
   "source": [
    "We can quickly examine the differences in the forcings between the two hrus by subtracting the forcing data for the two hrus and taking the mean (just showing some xarray features). "
   ]
  },
  {
   "cell_type": "code",
   "execution_count": null,
   "metadata": {},
   "outputs": [],
   "source": [
    "(force_obs.isel(hru=0)-force_obs.isel(hru=1)).mean()"
   ]
  },
  {
   "cell_type": "markdown",
   "metadata": {},
   "source": [
    "As you can see, subtracting the two hrus in the `xarra Dataset` will actually subtract all the forcing fields that are in that dataset and the mean difference is 0 for all meteorological variables."
   ]
  },
  {
   "cell_type": "markdown",
   "metadata": {},
   "source": [
    "Now keep in mind that SUMMA expects that the forcing variables are specified above the top canopy layer. For most of the forcing variables it may make not much difference whether you take the measurement in a (large) clearing or above the tree canopy (to first order). However, one forcing variable that will definitely be different is the wind speed, which is much lower nearer to the ground in a clearing then above the tree canopy. So using the same wind speed for both simulations is not very realistic. "
   ]
  },
  {
   "cell_type": "markdown",
   "metadata": {},
   "source": [
    "Now we can actually estimate the mean difference in the wind speed in the clearing and above the tree canopy by making some assumptions about the wind profile near the surface (see lectures). In this case, it turns out that the wind speed above the forest is about 1.6 times greater than the wind speed in the clearing. So let's adjust the wind speed for hru 1 and rerun the simulations."
   ]
  },
  {
   "cell_type": "markdown",
   "metadata": {},
   "source": [
    "To do so, we make a copy of the `force_obs` dataset and will write that to a new input file. Note that in `xarray` you need to use `.copy(deep=True)` when you make the copy. Otherwise the original dataset (`force_obs`) will also be modified when you change your copy (`force_wind`)."
   ]
  },
  {
   "cell_type": "code",
   "execution_count": null,
   "metadata": {},
   "outputs": [],
   "source": [
    "force_wind = force_obs.copy(deep=True)\n",
    "force_wind['windspd'].loc[{'hru': 1}] *= 1.6"
   ]
  },
  {
   "cell_type": "markdown",
   "metadata": {},
   "source": [
    "Let's plot the new wind speeds to make sure they now differ"
   ]
  },
  {
   "cell_type": "code",
   "execution_count": null,
   "metadata": {},
   "outputs": [],
   "source": [
    "force_wind['windspd'].isel(hru=0).plot(label='Clearing')\n",
    "force_wind['windspd'].isel(hru=1).plot(label='Forest')\n",
    "plt.ylim(0,force_wind['windspd'].max())\n",
    "plt.legend()"
   ]
  },
  {
   "cell_type": "markdown",
   "metadata": {},
   "source": [
    "We now want to write this to file and do a new simulation. We first create a new filename for the new file (we replace the '9697' in the original file name by '9697_rescaled_wind')"
   ]
  },
  {
   "cell_type": "code",
   "execution_count": null,
   "metadata": {},
   "outputs": [],
   "source": [
    "force_file_wind = force_file_obs.replace('9697', '9697_rescaled_wind')"
   ]
  },
  {
   "cell_type": "markdown",
   "metadata": {},
   "source": [
    "We then write the dataset to a NetCDF file (SUMMA expects the file in 'NETCDF3_CLASSIC' format)"
   ]
  },
  {
   "cell_type": "code",
   "execution_count": null,
   "metadata": {},
   "outputs": [],
   "source": [
    "force_wind.to_netcdf(force_file_wind, format='NETCDF3_CLASSIC')"
   ]
  },
  {
   "cell_type": "markdown",
   "metadata": {},
   "source": [
    "Almost there. The one thing left to do is to update the file with the names of the forcing files, so that SUMMA actually reads the right forcing file. For that we can use the function specified near the start of this notebook (`update_force_file_list()`). The function requires the simulation object and the name of the new forcing file"
   ]
  },
  {
   "cell_type": "code",
   "execution_count": null,
   "metadata": {},
   "outputs": [],
   "source": [
    "update_force_file_list(S, force_file_wind)"
   ]
  },
  {
   "cell_type": "markdown",
   "metadata": {},
   "source": [
    "OK - now we are all set. Let's do the new simulation with the rescaled wind"
   ]
  },
  {
   "cell_type": "code",
   "execution_count": null,
   "metadata": {},
   "outputs": [],
   "source": [
    "ds_rescaled_wind, out_rescaled_wind = S.execute(run_suffix='rescaled_wind', run_option='local')"
   ]
  },
  {
   "cell_type": "markdown",
   "metadata": {},
   "source": [
    "And let's replot the simulations and observations"
   ]
  },
  {
   "cell_type": "code",
   "execution_count": null,
   "metadata": {},
   "outputs": [],
   "source": [
    "plt.figure(figsize=(10,6))\n",
    "ds_rescaled_wind.scalarSWE.isel(hru=0).plot(label='Clearing -- sim', \n",
    "                                            color=cycle[0], linestyle='-')\n",
    "ds_rescaled_wind.scalarSWE.isel(hru=1).plot(label='Forest -- sim',\n",
    "                                       color=cycle[1], linestyle='-')\n",
    "swe_obs.SWE.isel(hru=0).plot(label='Clearing -- obs',\n",
    "                             color=cycle[0], linestyle='--')\n",
    "swe_obs.SWE.isel(hru=1).plot(label='Forest -- obs',\n",
    "                             color=cycle[1], linestyle='--')\n",
    "max_swe = max(ds_rescaled_wind.scalarSWE.max(), swe_obs.SWE.max())\n",
    "plt.ylim(0,max_swe)\n",
    "plt.legend()"
   ]
  },
  {
   "cell_type": "markdown",
   "metadata": {},
   "source": [
    "While that still isn't perfect, these simulations look a lot better. We now get snow interception and increased sublimation from the canopy, which greatly reduces the snow pack below the canopy."
   ]
  },
  {
   "cell_type": "markdown",
   "metadata": {},
   "source": [
    "**Keep in mind that the file with the forcing file list now points to the rescaled wind file. If you want to rerun with any other forcing you will need to make sure that the file reported in `forcing_file_list` points to the right input file.**\n",
    "\n",
    "You can navigate to this file in the file browser to the left.\n",
    "\n",
    "In addition, the file with the updated forcing will not be overwritten or removed when you rerun the setup in `homework_2_B_setup.ipynb` until you explicitly overwrite it again (for example by rerunning this notebook)."
   ]
  },
  {
   "cell_type": "markdown",
   "metadata": {},
   "source": [
    "Finally a few hints and things to keep in mind: It is easy to get confused with the model setup and the simulations. If you make changes to the forcings and the simulations do not change, make sure that your simulation object actually reads the right forcing file.\n",
    "\n",
    "All the forcing files should end up in the directory : `/home/jovyan/work/05adaf5618ee4dbbbf04195db376cbb4/05adaf5618ee4dbbbf04195db376cbb4/\n",
    "data/contents/umpqua/forcing/`\n",
    "You can inspect that directory in the file browser to the left (you can also do that in a terminal if you are familiar with unix).\n",
    "\n",
    "To make sure that the right file is actually being read, you can inspect the `forcing_file_list`, which is at:\n",
    "`/home/jovyan/work/05adaf5618ee4dbbbf04195db376cbb4/05adaf5618ee4dbbbf04195db376cbb4/\n",
    "data/contents/umpqua/settings/snow_zForcingFileList.txt`\n",
    "\n",
    "Keep in mind that commands in a jupyter notebook can be executed in any order, but that that may affect the results. When things don't make sense, re-install the setup for homework 2 (execute the cells in `homework_2_B_setup.ipynb`) and rerun this notebook. To make sure you start afresh, you should also restart the kernel (so there are no old versions in memory). You can do this by going to `Kernel --> Restart Kernel...` and re-executing the notebook cells or selecting `Kernel --> Restart Kernel and Run All Cells`. Normally you would not redo all the model simulations every time, but since the simulations are short, we'll use that method for now."
   ]
  },
  {
   "cell_type": "markdown",
   "metadata": {},
   "source": [
    "## On to the next step\n",
    "\n",
    "That's it for the first part of the second homework as far as the model simulations go. Prof. Lundquist will talk more about the analysis that you need to do on these simulations. You can do the analysis here in this notebook if python is your analysis software of choice or you can upload your output to HydroShare (in NetCDF or csv format) to do additional analysis.\n",
    "\n",
    "Save this notebook and close the tab. You can also right-click on the file in the left panel if it has a green dot next to it and select \"_Shutdown kernel_\" from the popup menu to stop the python session that is executing the commands in this notebook. Then open the next notebook: \n",
    "`work/homework_2/homework_2_D_exercise_2.ipynb`."
   ]
  },
  {
   "cell_type": "code",
   "execution_count": null,
   "metadata": {},
   "outputs": [],
   "source": []
  }
 ],
 "metadata": {
  "kernelspec": {
   "display_name": "Python [default]",
   "language": "python",
   "name": "python3"
  },
  "language_info": {
   "codemirror_mode": {
    "name": "ipython",
    "version": 3
   },
   "file_extension": ".py",
   "mimetype": "text/x-python",
   "name": "python",
   "nbconvert_exporter": "python",
   "pygments_lexer": "ipython3",
   "version": "3.6.3"
  }
 },
 "nbformat": 4,
 "nbformat_minor": 2
}
