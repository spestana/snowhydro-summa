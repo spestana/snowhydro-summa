{
 "cells": [
  {
   "cell_type": "markdown",
   "metadata": {},
   "source": [
    "# Homework 1 : CUAHSI VU : Snow Hydrology"
   ]
  },
  {
   "cell_type": "markdown",
   "metadata": {},
   "source": [
    "We'll use the setup from the `homework_1_C_setup.ipynb` notebook for this exercise as well. If you think that you comprised that setup in the previous exercise, just rerun `homework_1_C_setup.ipynb` before continuing."
   ]
  },
  {
   "cell_type": "markdown",
   "metadata": {},
   "source": [
    "As before, remember that you want to save your notebooks in a place other than the `examples` directory tree, because files you save there may be deleted and overwritten the next time you start your virtual machine. Save your files somewhere in the `work` directory tree: `work/homework_1` would be a great place for them. So click on \"_File --> Save Notebook As..._\" and save this notebook as `work/homework_1/homework_1_E_exercise_2.ipynb` before you continue. If things go hopelessly wrong, you can always start over again with the original notebook in your `examples` directory tree."
   ]
  },
  {
   "cell_type": "markdown",
   "metadata": {},
   "source": [
    "## E. Homework 1 Exercise 2"
   ]
  },
  {
   "cell_type": "markdown",
   "metadata": {},
   "source": [
    "### Setup"
   ]
  },
  {
   "cell_type": "code",
   "execution_count": null,
   "metadata": {},
   "outputs": [],
   "source": [
    "%matplotlib inline\n",
    "import matplotlib.pyplot as plt # if you want to do some plotting using matplotlib (optional)\n",
    "from pysumma.Simulation import Simulation # create Simulation objects\n",
    "from pysumma.hydroshare import hydroshare # create hydroshare objects to upload to HydroShare\n",
    "from pysumma.LocalParamInfo import LocalParamInfo # modify local parameters. Explained below"
   ]
  },
  {
   "cell_type": "code",
   "execution_count": null,
   "metadata": {},
   "outputs": [],
   "source": [
    "resource_id = '363296896e9d48d9b464d766fcd3073a'\n",
    "case_path = '/home/jovyan/work/{}/{}/data/contents/reynolds'.format(resource_id, resource_id)\n",
    "filemanager_path = case_path+'/settings/snow_fileManager_template.txt'\n",
    "summa_code_path = '/opt/summa'"
   ]
  },
  {
   "cell_type": "markdown",
   "metadata": {},
   "source": [
    "### Modify the albedo formulation"
   ]
  },
  {
   "cell_type": "markdown",
   "metadata": {},
   "source": [
    "In this exercise we will modify the albedo formulation and the parameters that govern that formulation. For background to this exercise see Clark et al. (2015). You should examine the following three scenarios:\n",
    "\n",
    "* Use a variable decay rate for the snow albedo. Note that this is the same as the default case used in the Homework 1 Exercise 1, so you actually already have these results. In this case the `alb_method` decision is set to `varDecay`.\n",
    "\n",
    "* Use a constant decay rate for the snow albedo (but use the same parameters as for the variable decay rate). In this case, set `alb_method` to `conDecay`.\n",
    "\n",
    "* Use a constant decay rate for the snow albedo and use appropriate parameters. So set `alb_method` to `conDecay` and set the following parameters in the local parameter file.\n",
    "```\n",
    "albedoDecayRate           |     360000.0 |     100000.0 |    5000000.0  \n",
    "```"
   ]
  },
  {
   "cell_type": "markdown",
   "metadata": {},
   "source": [
    "## On to the next step\n",
    "\n",
    "Before you go on restore the original parameters by executing `local_params.restore()`.\n",
    "\n",
    "That's it for the second part of the first homework as far as the model simulations go. Prof. Lundquist will talk more about the analysis that you need to do on these simulations. You can do the analysis here in this notebook if python is your analysis software of choice or you can upload your output to HydroShare (in NetCDF or csv format) to do additional analysis.\n",
    "\n",
    "Save this notebook and close the tab. You can also right-click on the file in the left panel if it has a green dot next to it and select \"_Shutdown kernel_\" from the popup menu to stop the python session that is executing the commands in this notebook. Then open the next notebook: \n",
    "`work/homework_1/homework_1_F_exercise_3.ipynb`."
   ]
  },
  {
   "cell_type": "markdown",
   "metadata": {},
   "source": [
    "## References\n",
    "\n",
    "* Clark, M. P., B. Nijssen, J. Lundquist, D. Kavetski, D. Rupp, R. Woods, J. Freer, E. Gutmann, A. Wood, D. Gochis, R. Rasmussen, D. Tarboton, V. Mahat, G. Flerchinger, D. Marks, 2015: A unified approach for process-based hydrologic modeling: Part 2. Model implementation and case studies. _Water Resources Research_, [doi:10.1002/2015WR017200](http://doi.org/10.1002/2015WR017200)."
   ]
  },
  {
   "cell_type": "code",
   "execution_count": null,
   "metadata": {},
   "outputs": [],
   "source": []
  }
 ],
 "metadata": {
  "kernelspec": {
   "display_name": "Python [default]",
   "language": "python",
   "name": "python3"
  },
  "language_info": {
   "codemirror_mode": {
    "name": "ipython",
    "version": 3
   },
   "file_extension": ".py",
   "mimetype": "text/x-python",
   "name": "python",
   "nbconvert_exporter": "python",
   "pygments_lexer": "ipython3",
   "version": "3.6.3"
  }
 },
 "nbformat": 4,
 "nbformat_minor": 2
}
