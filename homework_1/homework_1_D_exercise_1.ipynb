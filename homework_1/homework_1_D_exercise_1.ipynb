{
 "cells": [
  {
   "cell_type": "markdown",
   "metadata": {},
   "source": [
    "# Homework 1 : CUAHSI VU : Snow Hydrology"
   ]
  },
  {
   "cell_type": "markdown",
   "metadata": {},
   "source": [
    "This notebook will be relatively short because this where the real work starts and most of the notebook will be written by you (or at least that is the plan). We'll do three exercises in homework 1:\n",
    "\n",
    "* Homework 1 exercise 1: Change the snow layering scheme\n",
    "\n",
    "* Homework 1 exercise 2: Change the albedo formulation and albedo parameters\n",
    "\n",
    "* Homework 1 exercise 3: Change the parameters controlling drainage through the snow pack\n",
    "\n",
    "We'll use the setup from the `homework_1_C_setup.ipynb` notebook for all three exercises."
   ]
  },
  {
   "cell_type": "markdown",
   "metadata": {},
   "source": [
    "As before, remember that you want to save your notebooks in a place other than the `examples` directory tree, because files you save there may be deleted and overwritten the next time you start your virtual machine. Save your files somewhere in the `work` directory tree: `work/homework_1` would be a great place for them. So click on \"_File --> Save Notebook As..._\" and save this notebook as `work/homework_1/homework_1_D_exercise_1.ipynb` before you continue. If things go hopelessly wrong, you can always start over again with the original notebook in your `examples` directory tree."
   ]
  },
  {
   "cell_type": "markdown",
   "metadata": {},
   "source": [
    "## D. Homework 1 Exercise 1"
   ]
  },
  {
   "cell_type": "markdown",
   "metadata": {},
   "source": [
    "### Setup"
   ]
  },
  {
   "cell_type": "markdown",
   "metadata": {},
   "source": [
    "We'll import some of the python modules that you are likely to need right up front. Note that you only need to do this once in a notebook. As long as you are working in the same session, the modules will remain loaded for the duration of that session."
   ]
  },
  {
   "cell_type": "code",
   "execution_count": null,
   "metadata": {},
   "outputs": [],
   "source": [
    "%matplotlib inline\n",
    "import matplotlib.pyplot as plt # if you want to do some plotting using matplotlib (optional)\n",
    "from pysumma.Simulation import Simulation # create Simulation objects\n",
    "from pysumma.hydroshare import hydroshare # create hydroshare objects to upload to HydroShare\n",
    "from pysumma.LocalParamInfo import LocalParamInfo # modify local parameters. Explained below"
   ]
  },
  {
   "cell_type": "markdown",
   "metadata": {},
   "source": [
    "We'll also set some variables to make sure that everyone is using the same setup. This uses the setup that you installed in the `homework_1_C_setup.ipynb` notebook."
   ]
  },
  {
   "cell_type": "code",
   "execution_count": null,
   "metadata": {},
   "outputs": [],
   "source": [
    "resource_id = '363296896e9d48d9b464d766fcd3073a'\n",
    "case_path = '/home/jovyan/work/{}/{}/data/contents/reynolds'.format(resource_id, resource_id)\n",
    "filemanager_path = case_path+'/settings/snow_fileManager_template.txt'\n",
    "summa_code_path = '/opt/summa'"
   ]
  },
  {
   "cell_type": "markdown",
   "metadata": {},
   "source": [
    "### Change the snow layering scheme"
   ]
  },
  {
   "cell_type": "markdown",
   "metadata": {},
   "source": [
    "Snow models represent a snow pack as one or more layers of snow and keep track of how much water is stored in each layer (snow water equivalent or SWE) as well as other state variables such as temperature. The model then tracks the time evolution of these state variables in each layer as well as the fluxes of water and energy between the layers."
   ]
  },
  {
   "cell_type": "markdown",
   "metadata": {},
   "source": [
    "In SUMMA you can choose between two different methods to combine and sub-divide snow layers. This behavior is controlled by the `snowLayers` variable in the [SUMMA decisions file](https://summa.readthedocs.io/en/latest/input_output/SUMMA_input/#infile_model_decisions) and can take one of two values, either `CLM_2010` or `jrdn1991`. The first refers to how snow layers were handled in the Community Land Model (CLM), while the second refers the snow layering scheme in SNTHERM as describe in  Jordan (1991).\n",
    "\n",
    "Among others things, the `CLM_2010` only has a limited number of snow layers. The layers store a maximum amount of SWE and when SWE in a layer exceeds that value, a new layer is created. Similarly, when SWE in a layer falls below a minimum SWE, the layer is merged with a neighboring layer. Once the maximum number of layers has been created, the deepest layer can grow as deep as it needs to be and acts as snow reservoir with unlimited capacity. The `jrdn1991` scheme on the other hand keeps creating additional layers as the snow pack grows in depth.\n",
    "\n",
    "Here we will do four different simulations:\n",
    "\n",
    "* SUMMA with `CLM_2010`\n",
    "* SUMMA with `jrdn1991`\n",
    "* SUMMA with `CLM_2010`, but we will configure it to act as a two layer model (the default version uses five snow layers)\n",
    "* SUMMA with `CLM_2010`, a two layer model and a thick top layer."
   ]
  },
  {
   "cell_type": "markdown",
   "metadata": {},
   "source": [
    "So now it is up to you. Just to refresh your memory we'll show you how to get started and then will provide some hints along the way."
   ]
  },
  {
   "cell_type": "markdown",
   "metadata": {},
   "source": [
    "#### SUMMA with CLM_2010\n",
    "\n",
    "Create a simulation object. The path for the SUMMA code and the file manager (the SUMMA input file with information about all the other input files) are already defined above. We can use the same file manager file (and thus the same simulation object) for all the runs, just keep track of what you did. We also already imported the `Simulation()` method."
   ]
  },
  {
   "cell_type": "code",
   "execution_count": null,
   "metadata": {},
   "outputs": [],
   "source": [
    "S = Simulation(case_data=filemanager_path, summa_code=summa_code_path)"
   ]
  },
  {
   "cell_type": "markdown",
   "metadata": {},
   "source": [
    "Set the decision for `snowLayers` to `CLM_2010`."
   ]
  },
  {
   "cell_type": "code",
   "execution_count": null,
   "metadata": {},
   "outputs": [],
   "source": [
    "S.decision_obj.snowLayers.options"
   ]
  },
  {
   "cell_type": "code",
   "execution_count": null,
   "metadata": {},
   "outputs": [],
   "source": [
    "S.decision_obj.snowLayers.value = 'CLM_2010'"
   ]
  },
  {
   "cell_type": "markdown",
   "metadata": {},
   "source": [
    "Use a `run_suffix` that uniquely identifies this run so that you can keep your runs apart, for example `CLM_2010`, and run the model. If you assign the results to its own dataset (e.g. `ds_clm_2010`) and output file (e.g. `file_clm_2010`) it will be easier to gather all the files and upload them to HydroShare (or you can do so one by one, this is all up to you). The run itself will take about a minute."
   ]
  },
  {
   "cell_type": "code",
   "execution_count": null,
   "metadata": {},
   "outputs": [],
   "source": [
    "ds_clm_2010, file_clm_2010 = S.execute(run_suffix='CLM_2010', run_option='local')"
   ]
  },
  {
   "cell_type": "markdown",
   "metadata": {},
   "source": [
    "You can quickly check how the number of snow layers changes by plotting"
   ]
  },
  {
   "cell_type": "code",
   "execution_count": null,
   "metadata": {},
   "outputs": [],
   "source": [
    "ds_clm_2010.nSnow.isel(hru=0).plot()"
   ]
  },
  {
   "cell_type": "markdown",
   "metadata": {},
   "source": [
    "As you can see, the number of layers never exceeds five."
   ]
  },
  {
   "cell_type": "markdown",
   "metadata": {},
   "source": [
    "#### SUMMA with jrdn1991"
   ]
  },
  {
   "cell_type": "markdown",
   "metadata": {},
   "source": [
    "Repeat the exercise with the `jrdn1991` option for `snowLayers`. Examine the differences in the snow layers themselves, but also in other characteristics of snow pack evolution. In SUMMA, all other options will be the same between these two simulations unless you change things explicitly."
   ]
  },
  {
   "cell_type": "markdown",
   "metadata": {},
   "source": [
    "#### SUMMA with CLM_2010 configured as a  two layer model"
   ]
  },
  {
   "cell_type": "markdown",
   "metadata": {},
   "source": [
    "Now change the `snowLayers` option back to `CLM_2010` and configure the model to act as a two layer snow model rather than a five layer snow model. Two layer models are quite common. The surface layer is typically quite thin in these setups to respond quickly to changing atmospheric conditions, while the second layer acts as a snow reservoir with unlimited capacity.\n",
    "\n",
    "To configure the snow model as a two layer model, we need to change some model parameters, something we have not done so far, so we need to introduce another function in pySUMMA. Here, we'll change some settings in the SUMMA input file that contains parameter information (the name of that file is stored in your simulation object as `S.local_par.filename`).\n"
   ]
  },
  {
   "cell_type": "code",
   "execution_count": null,
   "metadata": {},
   "outputs": [],
   "source": [
    "S.local_par.filename"
   ]
  },
  {
   "cell_type": "markdown",
   "metadata": {},
   "source": [
    "We are going to change the file so it has the following settings:\n",
    "```\n",
    "zminLayer3                |     100.0000 |       0.0500 |       0.0500\n",
    "zminLayer4                |     100.0000 |       0.1000 |       0.1000\n",
    "zminLayer5                |     100.0000 |       0.2500 |       0.2500\n",
    "zmaxLayer2_lower          |    1000.0000 |       0.2000 |       0.2000\n",
    "zmaxLayer3_lower          |    1000.0000 |       0.5000 |       0.5000\n",
    "zmaxLayer4_lower          |    1000.0000 |       1.0000 |       1.0000\n",
    "zmaxLayer2_upper          |    1000.0000 |       0.1500 |       0.1500\n",
    "zmaxLayer3_upper          |    1000.0000 |       0.3000 |       0.3000\n",
    "zmaxLayer4_upper          |    1000.0000 |       0.7500 |       0.7500\n",
    "```\n",
    "For now don't worry about the last two columns (they are not used). The value in the second column determines when a new snow layer is created or when two layers are merged. By creating a second layer with a very large capacity, layers 3, 4, and 5 will never be created and the model acts like a two layer snow model."
   ]
  },
  {
   "cell_type": "markdown",
   "metadata": {},
   "source": [
    "While you can make these changes directly in the text file (`S.local_par.filename`), we will use pySUMMA to do so. This works somewhat differently than for the decisions (pySUMMA is a work in progress), but you can do the following:"
   ]
  },
  {
   "cell_type": "code",
   "execution_count": null,
   "metadata": {},
   "outputs": [],
   "source": [
    "S.decision_obj.snowLayers.value = 'CLM_2010'\n",
    "\n",
    "local_params_file = S.file_dir + '/' + S.local_par.filename\n",
    "local_params = LocalParamInfo(local_params_file)\n",
    "\n",
    "local_params.replace('zminLayer3', 100.0000, 0.0500, 0.0500)\n",
    "local_params.replace('zminLayer4', 100.0000, 0.1000, 0.1000)\n",
    "local_params.replace('zminLayer5', 100.0000, 0.2500, 0.2500)\n",
    "local_params.replace('zmaxLayer2_lower', 1000.0000, 0.2, 0.2000)\n",
    "local_params.replace('zmaxLayer3_lower', 1000.0000, 0.5000, 0.5000)\n",
    "local_params.replace('zmaxLayer4_lower', 1000.0000, 1.0000, 1.0000)\n",
    "local_params.replace('zmaxLayer2_upper', 1000.0000, 0.1500, 0.1500)\n",
    "local_params.replace('zmaxLayer3_upper', 1000.0000, 0.3000, 0.3000)\n",
    "local_params.replace('zmaxLayer4_upper', 1000.0000, 0.7500, 0.7500)"
   ]
  },
  {
   "cell_type": "markdown",
   "metadata": {},
   "source": [
    "Now go ahead and run the model. After you run the model, it is a good idea to restore the original parameters, which you can do by executing `local_params.restore()`. Note that this will only restore the immediately previous set of parameters. If things go really wrong, you can rerun the setup notebook (`work/homework_1/homework_1_C_setup.ipynb`) and start with a clean slate.\n",
    "\n",
    "Before you go on, verify that your model run only uses two snow layers and restore the original parameters by executing `local_params.restore()`."
   ]
  },
  {
   "cell_type": "markdown",
   "metadata": {},
   "source": [
    "#### SUMMA with CLM_2010 configured as a two layer model with a thick top layer"
   ]
  },
  {
   "cell_type": "markdown",
   "metadata": {},
   "source": [
    "One more run with `CLM_2010`, two layers, and a thick top layer. To do this, change the local parameters to\n",
    "```\n",
    "zminLayer1                |       0.0500 |       0.0500 |       0.0500\n",
    "zminLayer2                |       0.0200 |       0.0500 |       0.0500\n",
    "zminLayer3                |     100.0000 |       0.0500 |       0.0500\n",
    "zminLayer4                |     100.0000 |       0.1000 |       0.1000\n",
    "zminLayer5                |     100.0000 |       0.2500 |       0.2500\n",
    "zmaxLayer1_lower          |       0.2000 |       0.0500 |       0.0500\n",
    "zmaxLayer2_lower          |    1000.0000 |       0.2000 |       0.2000\n",
    "zmaxLayer3_lower          |    1000.0000 |       0.5000 |       0.5000\n",
    "zmaxLayer4_lower          |    1000.0000 |       1.0000 |       1.0000\n",
    "zmaxLayer1_upper          |       0.1500 |       0.0300 |       0.0300\n",
    "zmaxLayer2_upper          |    1000.0000 |       0.1500 |       0.1500\n",
    "zmaxLayer3_upper          |    1000.0000 |       0.3000 |       0.3000\n",
    "zmaxLayer4_upper          |    1000.0000 |       0.7500 |       0.7500\n",
    "\n",
    "```"
   ]
  },
  {
   "cell_type": "markdown",
   "metadata": {},
   "source": [
    "and run again. After you are done, restore the local parameters to the original values, because we will use the same setup in the next notebook."
   ]
  },
  {
   "cell_type": "markdown",
   "metadata": {},
   "source": [
    "## On to the next step"
   ]
  },
  {
   "cell_type": "markdown",
   "metadata": {},
   "source": [
    "That's it for the first part of the first homework as far as the model simulations go. Prof. Lundquist will talk more about the analysis that you need to do on these simulations. You can do the analysis here in this notebook if python is your analysis software of choice or you can upload your output to HydroShare (in NetCDF or csv format) to do additional analysis."
   ]
  },
  {
   "cell_type": "markdown",
   "metadata": {},
   "source": [
    "Save this notebook and close the tab. You can also right-click on the file in the left panel if it has a green dot next to it and select \"_Shutdown kernel_\" from the popup menu to stop the python session that is executing the commands in this notebook. Then open the next notebook: \n",
    "`work/homework_1/homework_1_E_exercise_2.ipynb`."
   ]
  },
  {
   "cell_type": "markdown",
   "metadata": {},
   "source": [
    "## References\n",
    "\n",
    "* Jordan, R., 1991: A one-dimensional temperature model for a snow cover. Technical documentation for SNTHERM.89. U.S. Army Corps of Engineers Cold Regions Research and Engineering Laboratory, 49 pp."
   ]
  },
  {
   "cell_type": "code",
   "execution_count": null,
   "metadata": {},
   "outputs": [],
   "source": []
  }
 ],
 "metadata": {
  "kernelspec": {
   "display_name": "Python [default]",
   "language": "python",
   "name": "python3"
  },
  "language_info": {
   "codemirror_mode": {
    "name": "ipython",
    "version": 3
   },
   "file_extension": ".py",
   "mimetype": "text/x-python",
   "name": "python",
   "nbconvert_exporter": "python",
   "pygments_lexer": "ipython3",
   "version": "3.6.3"
  }
 },
 "nbformat": 4,
 "nbformat_minor": 2
}
