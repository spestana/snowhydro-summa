{
 "cells": [
  {
   "cell_type": "code",
   "execution_count": 1,
   "metadata": {},
   "outputs": [
    {
     "name": "stdout",
     "output_type": "stream",
     "text": [
      "Successfully established a connection with HydroShare\n"
     ]
    }
   ],
   "source": [
    "from pysumma.hydroshare import hydroshare\n",
    "hs_up = hydroshare.hydroshare()"
   ]
  },
  {
   "cell_type": "code",
   "execution_count": 2,
   "metadata": {},
   "outputs": [],
   "source": [
    "work_dir = '/home/jovyan/work/snowhydro-summa/homework_1'\n",
    "data_dir = '/home/jovyan/work/363296896e9d48d9b464d766fcd3073a/363296896e9d48d9b464d766fcd3073a/data/contents/reynolds/output'\n",
    "\n",
    "files = (work_dir + '/homework_1_A_introduction.ipynb', \n",
    "         work_dir + '/homework_1_B_example.ipynb', \n",
    "         work_dir + '/homework_1_C_setup.ipynb',\n",
    "         work_dir + '/homework_1_D_exercise_1.ipynb',\n",
    "         work_dir + '/homework_1_E_exercise_2.ipynb',\n",
    "         work_dir + '/homework_1_F_exercise_3.ipynb',\n",
    "         work_dir + '/upload_notebooks.ipynb',\n",
    "         data_dir + '/reynolds_output_CLM_2010_5_timestep.nc',\n",
    "         data_dir + '/reynolds_output_CLM_2010_2thin_timestep.nc',\n",
    "         data_dir + '/reynolds_output_CLM_2010_2thick_timestep.nc',\n",
    "         data_dir + '/reynolds_output_jrdn1991_100_timestep.nc',\n",
    "         data_dir + '/reynolds_output_drainage_default_timestep.nc',\n",
    "         data_dir + '/reynolds_output_drainage_fcapil_timestep.nc',\n",
    "         data_dir + '/reynolds_output_drainage_ksnow_timestep.nc',\n",
    "         data_dir + '/reynolds_output_drainage_mwexp_timestep.nc',\n",
    "         data_dir + '/reynolds_output_drainage_changeAll_timestep.nc')"
   ]
  },
  {
   "cell_type": "code",
   "execution_count": 4,
   "metadata": {},
   "outputs": [],
   "source": [
    "# write meta data such as abstract, title, keywords, resource type\n",
    "title = 'Homework_1'\n",
    "abstract = 'Snow Hydrology: Focus on Modeling - Homework 1'\n",
    "keywords = ('homework', 'SUMMA', 'Jupyter', 'netCDF')\n",
    "resource_type = 'genericresource'"
   ]
  },
  {
   "cell_type": "code",
   "execution_count": 5,
   "metadata": {},
   "outputs": [],
   "source": [
    "metadata = '[{\"creator\":{\"name\":\"Steven Pestana\"}}]'"
   ]
  },
  {
   "cell_type": "code",
   "execution_count": 6,
   "metadata": {},
   "outputs": [
    {
     "name": "stdout",
     "output_type": "stream",
     "text": [
      "Resource Created Successfully\n",
      "Successfully Added Content Files\n"
     ]
    },
    {
     "data": {
      "text/html": [
       "Resource id: 85ddfc2452194d3fb21e7f2c9bad83b6"
      ],
      "text/plain": [
       "<IPython.core.display.HTML object>"
      ]
     },
     "metadata": {},
     "output_type": "display_data"
    },
    {
     "data": {
      "text/html": [
       "<a href=https://www.hydroshare.org/resource/85ddfc2452194d3fb21e7f2c9bad83b6 target=\"_blank\">Open Resource in HydroShare<a>"
      ],
      "text/plain": [
       "<IPython.core.display.HTML object>"
      ]
     },
     "metadata": {},
     "output_type": "display_data"
    }
   ],
   "source": [
    "# post simulation results of simpleResistance back to HS\n",
    "resource_id = hs_up.createHydroShareResource(title=title, content_files=files, keywords=keywords, abstract=abstract, \n",
    "                                             resource_type=resource_type, public=False)"
   ]
  },
  {
   "cell_type": "code",
   "execution_count": null,
   "metadata": {},
   "outputs": [],
   "source": []
  },
  {
   "cell_type": "code",
   "execution_count": null,
   "metadata": {},
   "outputs": [],
   "source": []
  }
 ],
 "metadata": {
  "kernelspec": {
   "display_name": "Python [default]",
   "language": "python",
   "name": "python3"
  },
  "language_info": {
   "codemirror_mode": {
    "name": "ipython",
    "version": 3
   },
   "file_extension": ".py",
   "mimetype": "text/x-python",
   "name": "python",
   "nbconvert_exporter": "python",
   "pygments_lexer": "ipython3",
   "version": "3.6.3"
  }
 },
 "nbformat": 4,
 "nbformat_minor": 2
}
