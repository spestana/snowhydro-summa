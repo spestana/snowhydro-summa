{
 "cells": [
  {
   "cell_type": "code",
   "execution_count": null,
   "metadata": {},
   "outputs": [],
   "source": [
    "from pysumma.hydroshare import hydroshare\n",
    "hs_up = hydroshare.hydroshare()"
   ]
  },
  {
   "cell_type": "code",
   "execution_count": null,
   "metadata": {},
   "outputs": [],
   "source": [
    "files = ('/home/jovyan/work/homework_1/homework_1_A_introduction.ipynb', \n",
    "         '/home/jovyan/work/homework_1/homework_1_B_example.ipynb', \n",
    "         '/home/jovyan/work/homework_1/homework_1_C_setup.ipynb',\n",
    "         '/home/jovyan/work/homework_1/homework_1_D_exercise_1.ipynb',\n",
    "         '/home/jovyan/work/homework_1/homework_1_E_exercise_2.ipynb',\n",
    "         '/home/jovyan/work/homework_1/homework_1_F_exercise_3.ipynb',\n",
    "         '/home/jovyan/work/homework_1/upload_notebooks.ipynb')"
   ]
  },
  {
   "cell_type": "code",
   "execution_count": null,
   "metadata": {},
   "outputs": [],
   "source": [
    "# write meta data such as abstract, title, keywords, resource type\n",
    "title = 'test'\n",
    "abstract = 'bla bla bla'\n",
    "keywords = ('nothing', 'more')\n",
    "resource_type = 'genericresource'"
   ]
  },
  {
   "cell_type": "code",
   "execution_count": null,
   "metadata": {},
   "outputs": [],
   "source": [
    "metadata = '[{\"creator\":{\"name\":\"Your name here\"}}]'"
   ]
  },
  {
   "cell_type": "code",
   "execution_count": null,
   "metadata": {},
   "outputs": [],
   "source": [
    "# post simulation results of simpleResistance back to HS\n",
    "resource_id = hs_up.createHydroShareResource(title=title, content_files=files, keywords=keywords, abstract=abstract, \n",
    "                                             resource_type=resource_type, public=False)"
   ]
  },
  {
   "cell_type": "code",
   "execution_count": null,
   "metadata": {},
   "outputs": [],
   "source": []
  },
  {
   "cell_type": "code",
   "execution_count": null,
   "metadata": {},
   "outputs": [],
   "source": []
  }
 ],
 "metadata": {
  "kernelspec": {
   "display_name": "Python [default]",
   "language": "python",
   "name": "python3"
  },
  "language_info": {
   "codemirror_mode": {
    "name": "ipython",
    "version": 3
   },
   "file_extension": ".py",
   "mimetype": "text/x-python",
   "name": "python",
   "nbconvert_exporter": "python",
   "pygments_lexer": "ipython3",
   "version": "3.6.3"
  }
 },
 "nbformat": 4,
 "nbformat_minor": 2
}
