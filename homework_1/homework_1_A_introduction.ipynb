{
 "cells": [
  {
   "cell_type": "markdown",
   "metadata": {},
   "source": [
    "# Homework 1 : CUAHSI VU : Snow Hydrology"
   ]
  },
  {
   "cell_type": "markdown",
   "metadata": {},
   "source": [
    "# A. Introduction\n",
    "\n",
    "Now that you know how to access the virtual machine and have gone through some Jupyter and python tutorials, let's move to the real topic of this course, which is snow hydrology and snow modeling. In this first homework you will do a number of exercises using SUMMA as your hydrology model. You will interact with SUMMA using a python module called pySUMMA and you will download the data you need to run the exercises from HydroShare. All the software that you will need to run the exercises is pre-installed in this virtual machine.\n",
    "\n",
    "Homework 1 consists of a series of notebooks for you to work through:\n",
    "\n",
    "* `homework_1_A_introduction.ipynb` : a brief introduction to SUMMA, pySUMMA, and how to download from and upload to HydroShare (this notebook). \n",
    "\n",
    "* `homework_1_B_example.ipynb` : run through an example using SUMMA, pySUMMA, and HydroShare\n",
    "\n",
    "* `homework_1_C_setup.ipynb` : get setup to do the exercises\n",
    "\n",
    "* `homework_1_D_exercise_1.ipynb` : instructions for homework 1, exercise 1\n",
    "\n",
    "* `homework_1_E_exercise_2.ipynb` : instructions for homework 1, exercise 2\n",
    "\n",
    "* `homework_1_F_exercise_3.ipynb` : instructions for homework 1, exercise 3"
   ]
  },
  {
   "cell_type": "markdown",
   "metadata": {},
   "source": [
    "Remember that you want to save your notebooks in a place other than the `examples` directory tree, because files you save there may be deleted and overwritten the next time you start your virtual machine. Save your files somewhere in the `work` directory tree: `work/homework_1` would be a great place for them. So click on \"_File --> Save Notebook As..._\" and save this notebook as `work/homework_1/homework_1_A_introduction.ipynb` before you continue. If things go hopelessly wrong, you can always start over again with the original notebook in your `examples` directory tree."
   ]
  },
  {
   "cell_type": "markdown",
   "metadata": {},
   "source": [
    "## SUMMA\n",
    "\n",
    "SUMMA itself will be introduced and discussed in your snow class and one of the SUMMA introductory papers is one of your class readings. SUMMA is described in two papers by _Clark et al._ in 2015:\n",
    "\n",
    "* Clark, M. P., B. Nijssen, J. Lundquist, D. Kavetski, D. Rupp, R. Woods, J. Freer, E. Gutmann, A. Wood, L. Brekke, J. Arnold, D. Gochis, R. Rasmussen, 2015: A unified approach for process-based hydrologic modeling: Part 1. Modeling concept. _Water Resources Research_, [doi:10.1002/2015WR017198](http://doi.org/10.1002/2015WR017198).\n",
    "\n",
    "* Clark, M. P., B. Nijssen, J. Lundquist, D. Kavetski, D. Rupp, R. Woods, J. Freer, E. Gutmann, A. Wood, D. Gochis, R. Rasmussen, D. Tarboton, V. Mahat, G. Flerchinger, D. Marks, 2015: A unified approach for process-based hydrologic modeling: Part 2. Model implementation and case studies. _Water Resources Research_, [doi:10.1002/2015WR017200](http://doi.org/10.1002/2015WR017200).\n",
    "\n",
    "SUMMA is written in Fortran and its source code is publically available on [GitHub](https://github.com/NCAR/summa). Documentation for SUMMA is a work in progress and is also available on the web on [readthedocs](https://summa.readthedocs.io). Like most open source documentation, the SUMMA documentation is a work in progress.\n",
    "\n",
    "Because it can be somewhat challenging to install SUMMA on your local machine (it is easy on unix-based machines, including macs), we have pre-installed SUMMA in this virtual machine. SUMMA is installed in `/opt/summa`. The SUMMA executable is installed as `/opt/summa/bin/summa.exe` and the SUMMA source code can be found in `/opt/summa/build/source/`. We'll show you in the next notebook how to run SUMMA directly from your Jupyter notebooks."
   ]
  },
  {
   "cell_type": "markdown",
   "metadata": {},
   "source": [
    "## pySUMMA\n",
    "\n",
    "Because SUMMA can be a little daunting to interact with the first time (there is no GUI and there are many settings and input files), we have created a python package called pySUMMA that hides some of this detail from you and let's you interact with the model more easily. Basically, it allows you to manipulate the input and configuration files, run the model, and do some of the analysis.\n",
    "\n",
    "Most of the credit for creating this package goes to the [Hydroinformatics Research Group at the University of Virginia](https://uvahydroinformatics.org/), in particular Jon Goodall, Youngdon Choi and Jeff Sadler. The code for the pySUMMA is available on their [GitHub site](https://github.com/uva-hydroinformatics/pysumma). Because pySUMMA is still a work in progress, we are using a slightly modified version for this course. Like the SUMMA model itself, the pySUMMA package is already pre-installed in this virtual machine. At the end of the class, we'll provide instructions how to install it on your local machine if you want to do so. "
   ]
  },
  {
   "cell_type": "markdown",
   "metadata": {},
   "source": [
    "To use a package in python, all you have to do is `import` that package into your current workspace (provided that package is installed on your machine). So in this case (remember to use `Shift-Enter` to execute a code cell in a Jupyter notebook):"
   ]
  },
  {
   "cell_type": "code",
   "execution_count": null,
   "metadata": {},
   "outputs": [],
   "source": [
    "import pysumma"
   ]
  },
  {
   "cell_type": "markdown",
   "metadata": {},
   "source": [
    "If there is no response when you execute this code, then it means that pySUMMA was imported correctly. You only need to do this once in your notebook (once during each session, when you reopen the notebook you need to do it again). \n",
    "\n",
    "In practice this is not how we typically import pySUMMA. There are specific elements of the pySUMMA package that we will import directly as we will show in the example in the next notebook. In particular, we will use `pysumma.Decisions`, `pysumma.ModelOutput`, `pysumma.Option`, and `pysumma.Simulation` to manipulate and analyze the SUMMA simulations. We'll go into more detail in the example notebook."
   ]
  },
  {
   "cell_type": "markdown",
   "metadata": {},
   "source": [
    "## HydroShare\n",
    "\n",
    "We will use CUAHSI's [HydroShare](https://www.hydroshare.org/) to download the model setups that accompany the exercises. We will also upload the model results back to your own HydroShare accounts. From there you can download the results to your local machine or share them with others. This will allow you to analyze your results locally using your favorite analysis software (python, R, MatLab, Excel, or whatever). While you can do all the analysis using python on your virtual machine, you should use the tools you are already familiar with to expedite your analysis, because we cannot cover everything in a 4-week module and the focus should be on the analysis of your model results."
   ]
  },
  {
   "cell_type": "markdown",
   "metadata": {},
   "source": [
    "We will use two separate python packages to download from and upload to HydroShare. As with the other software, these python packages are already installed. The package to download data is called `hs_restclient` (to upload we'll use some functions in pySUMMA). We only need some specific functions from this package:"
   ]
  },
  {
   "cell_type": "code",
   "execution_count": null,
   "metadata": {},
   "outputs": [],
   "source": [
    "from hs_restclient import HydroShare"
   ]
  },
  {
   "cell_type": "markdown",
   "metadata": {},
   "source": [
    "As before, if you do not get any messages, then this worked correctly. To actually download a resource from HydroShare, we create a `HydroShare` object and use it to download the resource.  "
   ]
  },
  {
   "cell_type": "code",
   "execution_count": null,
   "metadata": {},
   "outputs": [],
   "source": [
    "hs = HydroShare()"
   ]
  },
  {
   "cell_type": "markdown",
   "metadata": {},
   "source": [
    "This command just creates the `HydroShare` object and assigns it to `hs`. We can now use `hs.getResource()` to get the actual resource. To use this function, you will need the resource ID on HydroShare and a destination where the file should be stored locally (the function will download a zip file with the whole archive)."
   ]
  },
  {
   "cell_type": "markdown",
   "metadata": {},
   "source": [
    "So the first thing you'll need is the HydroShare resource ID. You can find this on [Hydroshare](https://www.hydroshare.org/). For example, the SUMMA test cases, which we will install in the example notebook, can be found by clicking the `Discover` link on HydroShare and then searching for \"_SUMMA sopron_\" (Sopron is a place in Hungary where we used SUMMA in a workshop in spring 2018). The resource we want is called \"_SUMMA Sopron workshop version(lubuntu-16.10)_\". If you click on that resource it will take you to a page describing the resource. The resource ID we are looking for is the last part of the URL (the part in the address bar after `resource/` with all the letters and numbers, but without the trailing slash). In this case. the resource ID is `a5dbd5b198c9468387f59f3fefc11e22`.  \n",
    "\n",
    "To download the resource into a directory named `junk`, you would first create a subdirectory named `junk` in your work directory (you can use python to do this, but just use the directory tree in the left panel if that's easier) and then execute"
   ]
  },
  {
   "cell_type": "code",
   "execution_count": null,
   "metadata": {},
   "outputs": [],
   "source": [
    "resource_id = 'a5dbd5b198c9468387f59f3fefc11e22'\n",
    "hs.getResource(resource_id, \n",
    "               destination='/home/jovyan/work/junk')"
   ]
  },
  {
   "cell_type": "markdown",
   "metadata": {},
   "source": [
    "If you do this, you will see a file named `a5dbd5b198c9468387f59f3fefc11e22.zip` appear in your `~/work/junk` directory (`~` is shorthand for your home directory, so `/home/jovyan`)."
   ]
  },
  {
   "cell_type": "markdown",
   "metadata": {},
   "source": [
    "As we'll see in the example notebook, we then have to unpack the file so that we can use it with SUMMA. But we'll leave that for now."
   ]
  },
  {
   "cell_type": "markdown",
   "metadata": {},
   "source": [
    "In the same way that we can handle the download from within your Jupyter notebook, we have some functions that will allow you to create a HydroShare resource and upload it to your own HydroShare account directly from the notebook. Here we'll just show you how to authenticate to HydroShare (or login) and upload this notebook to HydroShare. We'll do an actual upload of SUMMA results as part of the example notebook (the next one). \n",
    "\n",
    "The reason that you need to authenticate is that that will allow you to post something to your own account. You did not need to authenticate for the download, because the resource we downloaded was a public resource. You may not be asked to authenticate every time."
   ]
  },
  {
   "cell_type": "markdown",
   "metadata": {},
   "source": [
    "As already mentioned, the python interfaces for SUMMA and HydroShare are a work in progress and they are somewhat inconsistent at this time. Don't worry about that for now. These interfaces will likely continue to change in the near future. For now to authenticate to HydroShare, we'll use some functionality from the pysumma package. We'll create an object that we'll use to upload data and which will ask us to authenticate. Just use your HydroShare account information when you are asked for it."
   ]
  },
  {
   "cell_type": "code",
   "execution_count": null,
   "metadata": {},
   "outputs": [],
   "source": [
    "from pysumma.hydroshare import hydroshare\n",
    "hs_up = hydroshare.hydroshare()"
   ]
  },
  {
   "cell_type": "markdown",
   "metadata": {},
   "source": [
    "We are going to upload the current notebook back to HydroShare. To do that we will need the path to this notebook. Right-click on the notebook in the left panel and select \"_Copy Path_\" from the pop-up menu. Then add that path below if it is different than the one shown (remember that you need to preceed the path it gives you with `/home/jovyan`),"
   ]
  },
  {
   "cell_type": "code",
   "execution_count": null,
   "metadata": {},
   "outputs": [],
   "source": [
    "notebook_file = '/home/jovyan/work/homework_1/homework_1_A_introduction.ipynb'"
   ]
  },
  {
   "cell_type": "markdown",
   "metadata": {},
   "source": [
    "We can then assign a number of other entries that we can use as meta-data for the resource when it is uploaded to HydroShare. There is much more information on the HydroShare web site about different [resource types](https://help.hydroshare.org/hydroshare-resource-types/). We'll use a `GenericResource` for now."
   ]
  },
  {
   "cell_type": "code",
   "execution_count": null,
   "metadata": {},
   "outputs": [],
   "source": [
    "# write meta data such as abstract, title, keywords, resource type\n",
    "abstract = 'Test upload of a Jupyter notebook'\n",
    "title = 'Jupyter notebook for snow course'\n",
    "keywords = ('test', 'Jupyter', 'notebook') # currently you need to include at least two keywords or the upload will fail\n",
    "resource_type = 'genericresource'\n",
    "files = notebook_file, # yes, you do need the comma after the file here. It's a python thing (tuple)\n",
    "metadata = '[{\"creator\":{\"name\":\"Diligent student\"}}]'"
   ]
  },
  {
   "cell_type": "markdown",
   "metadata": {},
   "source": [
    "We can now create a resource on HydroShare. We'll make the resource private for now."
   ]
  },
  {
   "cell_type": "code",
   "execution_count": null,
   "metadata": {},
   "outputs": [],
   "source": [
    "# post simulation results of simpleResistance back to HS\n",
    "resource_id = hs_up.createHydroShareResource(title=title, content_files=files, keywords=keywords, abstract=abstract, \n",
    "                                             resource_type=resource_type, public=False)"
   ]
  },
  {
   "cell_type": "markdown",
   "metadata": {},
   "source": [
    "If you click the link that is returned when you run the cell, you can see your resource on HydroShare and you can download it to your local machine or whatever else you would like to do with it. In the example notebook we'll see how to add more files to an existing resource. "
   ]
  },
  {
   "cell_type": "markdown",
   "metadata": {},
   "source": [
    "## On to the next step"
   ]
  },
  {
   "cell_type": "markdown",
   "metadata": {},
   "source": [
    "That's it for the introduction. Feel free to delete your new resource on the HydroShare web site or to admire it for a while longer. Save this notebook and close the tab. You can also right-click on the file in the left panel if it has a green dot next to it and select \"_Shutdown kernel_\" from the popup menu to stop the python session that is executing the commands in this notebook. Then open the next notebook: `/home/jovyan/examples/homework_1/homework_1_B_example.ipynb`."
   ]
  },
  {
   "cell_type": "code",
   "execution_count": null,
   "metadata": {},
   "outputs": [],
   "source": []
  }
 ],
 "metadata": {
  "kernelspec": {
   "display_name": "Python [default]",
   "language": "python",
   "name": "python3"
  },
  "language_info": {
   "codemirror_mode": {
    "name": "ipython",
    "version": 3
   },
   "file_extension": ".py",
   "mimetype": "text/x-python",
   "name": "python",
   "nbconvert_exporter": "python",
   "pygments_lexer": "ipython3",
   "version": "3.6.3"
  }
 },
 "nbformat": 4,
 "nbformat_minor": 2
}
