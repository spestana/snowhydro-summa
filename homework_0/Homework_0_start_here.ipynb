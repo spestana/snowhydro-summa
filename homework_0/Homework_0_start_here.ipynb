{
 "cells": [
  {
   "cell_type": "markdown",
   "metadata": {},
   "source": [
    "# Homework 0 : CUAHSI VU : Snow Hydrology"
   ]
  },
  {
   "cell_type": "markdown",
   "metadata": {},
   "source": [
    "## Software Carpentry tutorial"
   ]
  },
  {
   "cell_type": "markdown",
   "metadata": {},
   "source": [
    "Note that you do not want to save any files in the `examples` directory tree. So go to the `File` entry on the menu and select `Save Notebook As...`. Then save the file somewhere in your `work` directory. Files that you save in your `work` directory tree will persist between successive logins (i.e. they will still be there when you come back later), but files in the `examples` directory will be overwritten as we make the new homework assignments available."
   ]
  },
  {
   "cell_type": "markdown",
   "metadata": {},
   "source": [
    "You can find the instructions for the software carpentry python tutorial at: http://swcarpentry.github.io/python-novice-inflammation. You can skip the setup step in that tutorial as we have taken care of that for you with this virtual machine and by pre-installing the necessary files. So start with the _Analyzing Patient Data_ step. In the second half of that page you will start loading data into python. Just remember that the files are already pre-installed. You just need to prepend the filenames with `/home/jovyan/examples/swc/data`, so `inflammation-01.csv` becomes `/home/jovyan/examples/swc/data/inflammation-01.csv`."
   ]
  },
  {
   "cell_type": "markdown",
   "metadata": {},
   "source": [
    "To get a brief introduction on how to enter and run code and write text in a jupyter notebook, take a look at https://jupyter-notebook.readthedocs.io/en/stable/notebook.html#notebook-user-interface."
   ]
  },
  {
   "cell_type": "markdown",
   "metadata": {},
   "source": [
    "## Analyzing patient data "
   ]
  },
  {
   "cell_type": "code",
   "execution_count": null,
   "metadata": {},
   "outputs": [],
   "source": [
    "3 + 5 * 4"
   ]
  },
  {
   "cell_type": "code",
   "execution_count": null,
   "metadata": {},
   "outputs": [],
   "source": [
    "import numpy"
   ]
  },
  {
   "cell_type": "code",
   "execution_count": null,
   "metadata": {},
   "outputs": [],
   "source": [
    "numpy.loadtxt(fname='/home/jovyan/examples/swc/data/inflammation-01.csv', delimiter=',')"
   ]
  }
 ],
 "metadata": {
  "kernelspec": {
   "display_name": "Python 3",
   "language": "python",
   "name": "python3"
  },
  "language_info": {
   "codemirror_mode": {
    "name": "ipython",
    "version": 3
   },
   "file_extension": ".py",
   "mimetype": "text/x-python",
   "name": "python",
   "nbconvert_exporter": "python",
   "pygments_lexer": "ipython3",
   "version": "3.6.6"
  }
 },
 "nbformat": 4,
 "nbformat_minor": 2
}
